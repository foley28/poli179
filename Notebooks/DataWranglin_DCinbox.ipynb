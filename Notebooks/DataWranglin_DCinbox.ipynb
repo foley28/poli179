{
 "cells": [
  {
   "cell_type": "code",
   "execution_count": 21,
   "id": "97a8f09a",
   "metadata": {},
   "outputs": [],
   "source": [
    "import numpy as np\n",
    "import scipy\n",
    "import pandas as pd\n",
    "import glob\n",
    "import yaml\n",
    "import json\n",
    "from pandas import json_normalize"
   ]
  },
  {
   "cell_type": "code",
   "execution_count": 22,
   "id": "bb4eb78c",
   "metadata": {
    "scrolled": true
   },
   "outputs": [
    {
     "name": "stderr",
     "output_type": "stream",
     "text": [
      "/tmp/ipykernel_125/1209080941.py:1: DtypeWarning: Columns (2,4,10,14,15,16,17,18,19,20,21,22,23,24,25,26,27,28,29,30,31,32,33,34,35,36,37,38,39,40,41,42,43,44,45,46,47,48,49,50,51,52,53,54,55,56,57,58,59,60,61,62,63,64,65,66,67,68,69,70,71,72,73,74,75,76,77,78,79,80,81,82,83,84,85,86,87,88,89,90,91,92,93,94,95,96,97,98,99,100,101,102,103,104,105,106,107,108,109,110,111,112,113,114,115,116,117,118,119,120,121,122,123,124,125,126,127,128,129,130,131,132,133,134,135,136,137,138,139,140,141,142,143,144,145,146,147,148,149,150,151,152,153,154,155,156,157,158,159,160,161,162,163,164,165,166,167,168,169,170,171,172,173,174,175,176,177,178,179,180,181,182,183,184,185,186,187,188,190,192,193,194,195,196,198,199,200) have mixed types. Specify dtype option on import or set low_memory=False.\n",
      "  dc = pd.read_csv(\"dcinbox_data.csv\")\n"
     ]
    }
   ],
   "source": [
    "dc = pd.read_csv(\"dcinbox_data.csv\")\n",
    "vv = pd.read_csv(\"voteview.csv\")"
   ]
  },
  {
   "cell_type": "code",
   "execution_count": 23,
   "id": "445045a5",
   "metadata": {},
   "outputs": [],
   "source": [
    "all_merged = pd.merge(vv, dc, on='bioguide', how='left') #merges the third one"
   ]
  },
  {
   "cell_type": "code",
   "execution_count": 24,
   "id": "b84e76fe",
   "metadata": {},
   "outputs": [
    {
     "name": "stdout",
     "output_type": "stream",
     "text": [
      "        congress              bioname  nominate_dim1  nominate_dim2  icpsr  \\\n",
      "0            115  ROGERS, Mike Dennis          0.377          0.384  20301   \n",
      "1            115  ROGERS, Mike Dennis          0.377          0.384  20301   \n",
      "2            115  ROGERS, Mike Dennis          0.377          0.384  20301   \n",
      "3            115  ROGERS, Mike Dennis          0.377          0.384  20301   \n",
      "4            115  ROGERS, Mike Dennis          0.377          0.384  20301   \n",
      "...          ...                  ...            ...            ...    ...   \n",
      "125256       117    BARRASSO, John A.          0.537          0.222  40707   \n",
      "125257       117    BARRASSO, John A.          0.537          0.222  40707   \n",
      "125258       117    BARRASSO, John A.          0.537          0.222  40707   \n",
      "125259       117    BARRASSO, John A.          0.537          0.222  40707   \n",
      "125260       117    BARRASSO, John A.          0.537          0.222  40707   \n",
      "\n",
      "        party_code bioguide  \\\n",
      "0              200  R000575   \n",
      "1              200  R000575   \n",
      "2              200  R000575   \n",
      "3              200  R000575   \n",
      "4              200  R000575   \n",
      "...            ...      ...   \n",
      "125256         200  B001261   \n",
      "125257         200  B001261   \n",
      "125258         200  B001261   \n",
      "125259         200  B001261   \n",
      "125260         200  B001261   \n",
      "\n",
      "                                                  Subject  \\\n",
      "0       E-Alert: Rogers: House-Passed NDAA Supports ou...   \n",
      "1       eAlert: Rogers Praises Supreme Court's Decisio...   \n",
      "2       eAlert: Rogers Reintroduces Legislation to Pro...   \n",
      "3        We Must Secure our Border to Keep Americans Safe   \n",
      "4       eNewsletter: Biden's Socialist Policies are Hu...   \n",
      "...                                                   ...   \n",
      "125256  Protecting Second Amendment Rights of Law-Abid...   \n",
      "125257                      Crisis at Our Southern Border   \n",
      "125258                      Crisis at Our Southern Border   \n",
      "125259       The ARROW Act - Protecting Outdoor Education   \n",
      "125260       The ARROW Act - Protecting Outdoor Education   \n",
      "\n",
      "                                                     Body   Unix Timestamp  \\\n",
      "0        News from Representative Rogers Dear  , Last ...      1.65815E+12   \n",
      "1        News from Representative Rogers Dear  , Today...      1.65608E+12   \n",
      "2        News from Representative Rogers Dear  , I rec...      1.65514E+12   \n",
      "3        News from Representative Rogers Dear  , Joe B...      1.64821E+12   \n",
      "4        News from Representative Rogers Dear  , The h...      1.64701E+12   \n",
      "...                                                   ...              ...   \n",
      "125256   Dear  , Every day, people across Wyoming resp...      1.70248E+12   \n",
      "125257   Dear  , National security starts with border ...  1699290000000.0   \n",
      "125258   Dear  , National security starts with border ...  1699290000000.0   \n",
      "125259   Dear  , Hunting and archery are an essential ...      1.69419E+12   \n",
      "125260   [image: Protecting Outdoor Educational Opport...      1.69414E+12   \n",
      "\n",
      "        ... Unnamed: 192 Unnamed: 193 Unnamed: 194 Unnamed: 195 Unnamed: 196  \\\n",
      "0       ...          NaN          NaN          NaN          NaN          NaN   \n",
      "1       ...          NaN          NaN          NaN          NaN          NaN   \n",
      "2       ...          NaN          NaN          NaN          NaN          NaN   \n",
      "3       ...          NaN          NaN          NaN          NaN          NaN   \n",
      "4       ...          NaN          NaN          NaN          NaN          NaN   \n",
      "...     ...          ...          ...          ...          ...          ...   \n",
      "125256  ...          NaN          NaN          NaN          NaN          NaN   \n",
      "125257  ...          NaN          NaN          NaN          NaN          NaN   \n",
      "125258  ...          NaN          NaN          NaN          NaN          NaN   \n",
      "125259  ...          NaN          NaN          NaN          NaN          NaN   \n",
      "125260  ...          NaN          NaN          NaN          NaN          NaN   \n",
      "\n",
      "       Unnamed: 197 Unnamed: 198 Unnamed: 199 Unnamed: 200 Unnamed: 201  \n",
      "0               NaN          NaN          NaN          NaN          NaN  \n",
      "1               NaN          NaN          NaN          NaN          NaN  \n",
      "2               NaN          NaN          NaN          NaN          NaN  \n",
      "3               NaN          NaN          NaN          NaN          NaN  \n",
      "4               NaN          NaN          NaN          NaN          NaN  \n",
      "...             ...          ...          ...          ...          ...  \n",
      "125256          NaN          NaN          NaN          NaN          NaN  \n",
      "125257          NaN          NaN          NaN          NaN          NaN  \n",
      "125258          NaN          NaN          NaN          NaN          NaN  \n",
      "125259          NaN          NaN          NaN          NaN          NaN  \n",
      "125260          NaN          NaN          NaN          NaN          NaN  \n",
      "\n",
      "[125261 rows x 208 columns]\n"
     ]
    }
   ],
   "source": [
    "all_merged = all_merged[all_merged['bioname'] != 'TRUMP, Donald John'] #removed all NAs, i think\n",
    "all_merged = all_merged.reset_index(drop=True) #resets row numbers\n",
    "print(all_merged)"
   ]
  },
  {
   "cell_type": "code",
   "execution_count": 25,
   "id": "b43072ec",
   "metadata": {},
   "outputs": [
    {
     "name": "stdout",
     "output_type": "stream",
     "text": [
      "                    bioname  nominate_dim1 bioguide  party_code  \\\n",
      "0       ROGERS, Mike Dennis          0.377  R000575         200   \n",
      "1       ROGERS, Mike Dennis          0.377  R000575         200   \n",
      "2       ROGERS, Mike Dennis          0.377  R000575         200   \n",
      "3       ROGERS, Mike Dennis          0.377  R000575         200   \n",
      "4       ROGERS, Mike Dennis          0.377  R000575         200   \n",
      "...                     ...            ...      ...         ...   \n",
      "125256    BARRASSO, John A.          0.537  B001261         200   \n",
      "125257    BARRASSO, John A.          0.537  B001261         200   \n",
      "125258    BARRASSO, John A.          0.537  B001261         200   \n",
      "125259    BARRASSO, John A.          0.537  B001261         200   \n",
      "125260    BARRASSO, John A.          0.537  B001261         200   \n",
      "\n",
      "                                                  Subject  \\\n",
      "0       E-Alert: Rogers: House-Passed NDAA Supports ou...   \n",
      "1       eAlert: Rogers Praises Supreme Court's Decisio...   \n",
      "2       eAlert: Rogers Reintroduces Legislation to Pro...   \n",
      "3        We Must Secure our Border to Keep Americans Safe   \n",
      "4       eNewsletter: Biden's Socialist Policies are Hu...   \n",
      "...                                                   ...   \n",
      "125256  Protecting Second Amendment Rights of Law-Abid...   \n",
      "125257                      Crisis at Our Southern Border   \n",
      "125258                      Crisis at Our Southern Border   \n",
      "125259       The ARROW Act - Protecting Outdoor Education   \n",
      "125260       The ARROW Act - Protecting Outdoor Education   \n",
      "\n",
      "                                                     Body  \n",
      "0        News from Representative Rogers Dear  , Last ...  \n",
      "1        News from Representative Rogers Dear  , Today...  \n",
      "2        News from Representative Rogers Dear  , I rec...  \n",
      "3        News from Representative Rogers Dear  , Joe B...  \n",
      "4        News from Representative Rogers Dear  , The h...  \n",
      "...                                                   ...  \n",
      "125256   Dear  , Every day, people across Wyoming resp...  \n",
      "125257   Dear  , National security starts with border ...  \n",
      "125258   Dear  , National security starts with border ...  \n",
      "125259   Dear  , Hunting and archery are an essential ...  \n",
      "125260   [image: Protecting Outdoor Educational Opport...  \n",
      "\n",
      "[125261 rows x 6 columns]\n"
     ]
    }
   ],
   "source": [
    "all_merged = all_merged[['bioname','nominate_dim1','bioguide','party_code','Subject','Body']]\n",
    "print(all_merged)"
   ]
  },
  {
   "cell_type": "code",
   "execution_count": 26,
   "id": "a0f73c05",
   "metadata": {},
   "outputs": [],
   "source": [
    "all_merged.to_csv(\"JAWNDCI.csv\")"
   ]
  }
 ],
 "metadata": {
  "kernelspec": {
   "display_name": "Python 3 (ipykernel)",
   "language": "python",
   "name": "python3"
  },
  "language_info": {
   "codemirror_mode": {
    "name": "ipython",
    "version": 3
   },
   "file_extension": ".py",
   "mimetype": "text/x-python",
   "name": "python",
   "nbconvert_exporter": "python",
   "pygments_lexer": "ipython3",
   "version": "3.9.5"
  }
 },
 "nbformat": 4,
 "nbformat_minor": 5
}
